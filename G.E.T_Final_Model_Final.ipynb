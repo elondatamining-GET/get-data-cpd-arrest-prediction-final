{
 "cells": [
  {
   "cell_type": "markdown",
   "id": "0a93690e-71df-4599-9a33-f4968cc76962",
   "metadata": {
    "id": "0a93690e-71df-4599-9a33-f4968cc76962"
   },
   "source": [
    "### Packages"
   ]
  },
  {
   "cell_type": "code",
   "execution_count": 5,
   "id": "a9825e1f-fd62-408d-9a53-933d79646719",
   "metadata": {
    "colab": {
     "base_uri": "https://localhost:8080/"
    },
    "executionInfo": {
     "elapsed": 14700,
     "status": "ok",
     "timestamp": 1746500327031,
     "user": {
      "displayName": "Gwen Hollingsworth",
      "userId": "15419091393829148170"
     },
     "user_tz": 240
    },
    "id": "a9825e1f-fd62-408d-9a53-933d79646719",
    "outputId": "c115adba-ce2a-4182-b795-96628cafe8b7"
   },
   "outputs": [
    {
     "name": "stdout",
     "output_type": "stream",
     "text": [
      "Requirement already satisfied: mord in /opt/anaconda3/lib/python3.12/site-packages (0.7)\n",
      "Requirement already satisfied: dmba in /opt/anaconda3/lib/python3.12/site-packages (0.2.4)\n",
      "Requirement already satisfied: graphviz in /opt/anaconda3/lib/python3.12/site-packages (from dmba) (0.20.3)\n",
      "Requirement already satisfied: matplotlib in /opt/anaconda3/lib/python3.12/site-packages (from dmba) (3.9.2)\n",
      "Requirement already satisfied: numpy in /opt/anaconda3/lib/python3.12/site-packages (from dmba) (1.26.4)\n",
      "Requirement already satisfied: pandas in /opt/anaconda3/lib/python3.12/site-packages (from dmba) (2.2.2)\n",
      "Requirement already satisfied: scikit-learn in /opt/anaconda3/lib/python3.12/site-packages (from dmba) (1.5.1)\n",
      "Requirement already satisfied: scipy in /opt/anaconda3/lib/python3.12/site-packages (from dmba) (1.13.1)\n",
      "Requirement already satisfied: contourpy>=1.0.1 in /opt/anaconda3/lib/python3.12/site-packages (from matplotlib->dmba) (1.2.0)\n",
      "Requirement already satisfied: cycler>=0.10 in /opt/anaconda3/lib/python3.12/site-packages (from matplotlib->dmba) (0.11.0)\n",
      "Requirement already satisfied: fonttools>=4.22.0 in /opt/anaconda3/lib/python3.12/site-packages (from matplotlib->dmba) (4.51.0)\n",
      "Requirement already satisfied: kiwisolver>=1.3.1 in /opt/anaconda3/lib/python3.12/site-packages (from matplotlib->dmba) (1.4.4)\n",
      "Requirement already satisfied: packaging>=20.0 in /opt/anaconda3/lib/python3.12/site-packages (from matplotlib->dmba) (24.1)\n",
      "Requirement already satisfied: pillow>=8 in /opt/anaconda3/lib/python3.12/site-packages (from matplotlib->dmba) (10.4.0)\n",
      "Requirement already satisfied: pyparsing>=2.3.1 in /opt/anaconda3/lib/python3.12/site-packages (from matplotlib->dmba) (3.1.2)\n",
      "Requirement already satisfied: python-dateutil>=2.7 in /opt/anaconda3/lib/python3.12/site-packages (from matplotlib->dmba) (2.9.0.post0)\n",
      "Requirement already satisfied: pytz>=2020.1 in /opt/anaconda3/lib/python3.12/site-packages (from pandas->dmba) (2024.1)\n",
      "Requirement already satisfied: tzdata>=2022.7 in /opt/anaconda3/lib/python3.12/site-packages (from pandas->dmba) (2023.3)\n",
      "Requirement already satisfied: joblib>=1.2.0 in /opt/anaconda3/lib/python3.12/site-packages (from scikit-learn->dmba) (1.4.2)\n",
      "Requirement already satisfied: threadpoolctl>=3.1.0 in /opt/anaconda3/lib/python3.12/site-packages (from scikit-learn->dmba) (3.5.0)\n",
      "Requirement already satisfied: six>=1.5 in /opt/anaconda3/lib/python3.12/site-packages (from python-dateutil>=2.7->matplotlib->dmba) (1.16.0)\n"
     ]
    }
   ],
   "source": [
    "!pip install mord\n",
    "!pip install dmba"
   ]
  },
  {
   "cell_type": "code",
   "execution_count": 6,
   "id": "914ca20c-4f76-4ad5-b721-a76ffb2a2855",
   "metadata": {
    "colab": {
     "base_uri": "https://localhost:8080/"
    },
    "executionInfo": {
     "elapsed": 5077,
     "status": "ok",
     "timestamp": 1746500332111,
     "user": {
      "displayName": "Gwen Hollingsworth",
      "userId": "15419091393829148170"
     },
     "user_tz": 240
    },
    "id": "914ca20c-4f76-4ad5-b721-a76ffb2a2855",
    "outputId": "cfd190fc-cfc2-4d86-848b-8fd048f17bc7"
   },
   "outputs": [
    {
     "name": "stdout",
     "output_type": "stream",
     "text": [
      "no display found. Using non-interactive Agg backend\n"
     ]
    }
   ],
   "source": [
    "import warnings\n",
    "from pathlib import Path\n",
    "import pandas as pd\n",
    "import numpy as np\n",
    "import matplotlib.pylab as plt\n",
    "import seaborn as sns\n",
    "%matplotlib inline\n",
    "from sklearn.model_selection import train_test_split, GridSearchCV\n",
    "from sklearn.metrics import accuracy_score, confusion_matrix, mean_squared_error\n",
    "from sklearn.preprocessing import StandardScaler\n",
    "from sklearn.tree import DecisionTreeClassifier, DecisionTreeRegressor\n",
    "from sklearn.linear_model import LogisticRegression, LogisticRegressionCV\n",
    "from sklearn.neighbors import KNeighborsClassifier, KNeighborsRegressor, NearestNeighbors\n",
    "from sklearn import preprocessing\n",
    "from sklearn.tree import DecisionTreeClassifier, export_text\n",
    "from sklearn import tree\n",
    "from sklearn.preprocessing import StandardScaler\n",
    "from sklearn.neighbors import KNeighborsClassifier\n",
    "from sklearn.model_selection import train_test_split\n",
    "from sklearn.linear_model import LogisticRegression\n",
    "from sklearn.neighbors import KNeighborsClassifier\n",
    "from sklearn.metrics import accuracy_score, confusion_matrix, classification_report\n",
    "from dmba import gainsChart, liftChart\n",
    "from dmba import classificationSummary\n",
    "from sklearn.model_selection import cross_val_score\n",
    "\n",
    "\n",
    "import statsmodels.api as sm\n",
    "from mord import LogisticIT"
   ]
  },
  {
   "cell_type": "markdown",
   "id": "b985320e-47c5-4ca4-840e-52da40dac958",
   "metadata": {
    "id": "b985320e-47c5-4ca4-840e-52da40dac958"
   },
   "source": [
    "### Data Loading and cleaning"
   ]
  },
  {
   "cell_type": "code",
   "execution_count": 8,
   "id": "f25e0213-4071-4a0a-82e5-fa4f03d96c36",
   "metadata": {
    "colab": {
     "base_uri": "https://localhost:8080/"
    },
    "executionInfo": {
     "elapsed": 7985,
     "status": "ok",
     "timestamp": 1746500355688,
     "user": {
      "displayName": "Gwen Hollingsworth",
      "userId": "15419091393829148170"
     },
     "user_tz": 240
    },
    "id": "f25e0213-4071-4a0a-82e5-fa4f03d96c36",
    "outputId": "b1a9b469-4d87-49bb-9698-0effaadc978c"
   },
   "outputs": [],
   "source": [
    "crime_df = pd.read_csv('Crimes_-_2001_to_Present.csv')"
   ]
  },
  {
   "cell_type": "code",
   "execution_count": 10,
   "id": "7e76a84f-878f-40df-94ce-6017bec6a373",
   "metadata": {
    "executionInfo": {
     "elapsed": 939,
     "status": "ok",
     "timestamp": 1746500356679,
     "user": {
      "displayName": "Gwen Hollingsworth",
      "userId": "15419091393829148170"
     },
     "user_tz": 240
    },
    "id": "7e76a84f-878f-40df-94ce-6017bec6a373"
   },
   "outputs": [],
   "source": [
    "crime_df_no_na = crime_df.dropna()"
   ]
  },
  {
   "cell_type": "code",
   "execution_count": 11,
   "id": "5229c3ae-fb96-4930-a639-7c5d541812ec",
   "metadata": {
    "id": "5229c3ae-fb96-4930-a639-7c5d541812ec"
   },
   "outputs": [],
   "source": [
    "crime_df_drop = crime_df_no_na.drop(columns=[\n",
    "    'ID', 'Case Number','Block', 'IUCR', 'FBI Code', 'X Coordinate', 'Y Coordinate',\n",
    "    'Updated On', 'Location', 'Location Description', 'Latitude', 'Longitude',\n",
    "    'Year'])"
   ]
  },
  {
   "cell_type": "code",
   "execution_count": 12,
   "id": "7de7dc2d-8053-4388-80ad-cde555d22b94",
   "metadata": {
    "id": "7de7dc2d-8053-4388-80ad-cde555d22b94"
   },
   "outputs": [],
   "source": [
    "crime_encoded = pd.get_dummies(crime_df_drop, columns= ['Primary Type', 'Description'], drop_first=True)"
   ]
  },
  {
   "cell_type": "code",
   "execution_count": 13,
   "id": "17bd1f2e-9a6a-442c-8776-8ba1f2ab7ccb",
   "metadata": {
    "id": "17bd1f2e-9a6a-442c-8776-8ba1f2ab7ccb"
   },
   "outputs": [],
   "source": [
    "crime_sample_df = crime_encoded.sample(frac=0.01, random_state=7)"
   ]
  },
  {
   "cell_type": "code",
   "execution_count": 14,
   "id": "012f8334-f969-45a3-ac50-6f5cfa23a2aa",
   "metadata": {
    "colab": {
     "base_uri": "https://localhost:8080/",
     "height": 481
    },
    "executionInfo": {
     "elapsed": 36,
     "status": "ok",
     "timestamp": 1746496353603,
     "user": {
      "displayName": "Gwen Hollingsworth",
      "userId": "15419091393829148170"
     },
     "user_tz": 240
    },
    "id": "012f8334-f969-45a3-ac50-6f5cfa23a2aa",
    "outputId": "f0abab0a-55f6-4c47-e2b7-4e547b6eb18b"
   },
   "outputs": [
    {
     "data": {
      "text/html": [
       "<div>\n",
       "<style scoped>\n",
       "    .dataframe tbody tr th:only-of-type {\n",
       "        vertical-align: middle;\n",
       "    }\n",
       "\n",
       "    .dataframe tbody tr th {\n",
       "        vertical-align: top;\n",
       "    }\n",
       "\n",
       "    .dataframe thead th {\n",
       "        text-align: right;\n",
       "    }\n",
       "</style>\n",
       "<table border=\"1\" class=\"dataframe\">\n",
       "  <thead>\n",
       "    <tr style=\"text-align: right;\">\n",
       "      <th></th>\n",
       "      <th>Date</th>\n",
       "      <th>Arrest</th>\n",
       "      <th>Domestic</th>\n",
       "      <th>Beat</th>\n",
       "      <th>District</th>\n",
       "      <th>Ward</th>\n",
       "      <th>Community Area</th>\n",
       "      <th>Primary Type_ASSAULT</th>\n",
       "      <th>Primary Type_BATTERY</th>\n",
       "      <th>Primary Type_BURGLARY</th>\n",
       "      <th>...</th>\n",
       "      <th>Description_VIOLATION OF SUMMARY CLOSURE</th>\n",
       "      <th>Description_VIOLENT OFFENDER - ANNUAL REGISTRATION</th>\n",
       "      <th>Description_VIOLENT OFFENDER - DUTY TO REGISTER</th>\n",
       "      <th>Description_VIOLENT OFFENDER - FAIL TO REGISTER NEW ADDRESS</th>\n",
       "      <th>Description_VIOLENT OFFENDER: ANNUAL REGISTRATION</th>\n",
       "      <th>Description_VIOLENT OFFENDER: DUTY TO REGISTER</th>\n",
       "      <th>Description_VIOLENT OFFENDER: FAIL TO REGISTER NEW ADDRESS</th>\n",
       "      <th>Description_WIC FRAUD</th>\n",
       "      <th>Description_WIREROOM/HORSES</th>\n",
       "      <th>Description_WIREROOM/SPORTS</th>\n",
       "    </tr>\n",
       "  </thead>\n",
       "  <tbody>\n",
       "    <tr>\n",
       "      <th>2721891</th>\n",
       "      <td>08/21/2006 02:20:00 AM</td>\n",
       "      <td>True</td>\n",
       "      <td>False</td>\n",
       "      <td>313</td>\n",
       "      <td>3.0</td>\n",
       "      <td>20.0</td>\n",
       "      <td>42.0</td>\n",
       "      <td>False</td>\n",
       "      <td>False</td>\n",
       "      <td>False</td>\n",
       "      <td>...</td>\n",
       "      <td>False</td>\n",
       "      <td>False</td>\n",
       "      <td>False</td>\n",
       "      <td>False</td>\n",
       "      <td>False</td>\n",
       "      <td>False</td>\n",
       "      <td>False</td>\n",
       "      <td>False</td>\n",
       "      <td>False</td>\n",
       "      <td>False</td>\n",
       "    </tr>\n",
       "    <tr>\n",
       "      <th>2461538</th>\n",
       "      <td>11/23/2005 05:05:00 PM</td>\n",
       "      <td>False</td>\n",
       "      <td>True</td>\n",
       "      <td>723</td>\n",
       "      <td>7.0</td>\n",
       "      <td>17.0</td>\n",
       "      <td>68.0</td>\n",
       "      <td>True</td>\n",
       "      <td>False</td>\n",
       "      <td>False</td>\n",
       "      <td>...</td>\n",
       "      <td>False</td>\n",
       "      <td>False</td>\n",
       "      <td>False</td>\n",
       "      <td>False</td>\n",
       "      <td>False</td>\n",
       "      <td>False</td>\n",
       "      <td>False</td>\n",
       "      <td>False</td>\n",
       "      <td>False</td>\n",
       "      <td>False</td>\n",
       "    </tr>\n",
       "    <tr>\n",
       "      <th>4695736</th>\n",
       "      <td>04/22/2011 05:32:00 PM</td>\n",
       "      <td>False</td>\n",
       "      <td>True</td>\n",
       "      <td>2233</td>\n",
       "      <td>22.0</td>\n",
       "      <td>34.0</td>\n",
       "      <td>49.0</td>\n",
       "      <td>False</td>\n",
       "      <td>True</td>\n",
       "      <td>False</td>\n",
       "      <td>...</td>\n",
       "      <td>False</td>\n",
       "      <td>False</td>\n",
       "      <td>False</td>\n",
       "      <td>False</td>\n",
       "      <td>False</td>\n",
       "      <td>False</td>\n",
       "      <td>False</td>\n",
       "      <td>False</td>\n",
       "      <td>False</td>\n",
       "      <td>False</td>\n",
       "    </tr>\n",
       "    <tr>\n",
       "      <th>1984789</th>\n",
       "      <td>11/26/2004 12:20:00 AM</td>\n",
       "      <td>False</td>\n",
       "      <td>True</td>\n",
       "      <td>1531</td>\n",
       "      <td>15.0</td>\n",
       "      <td>37.0</td>\n",
       "      <td>25.0</td>\n",
       "      <td>False</td>\n",
       "      <td>True</td>\n",
       "      <td>False</td>\n",
       "      <td>...</td>\n",
       "      <td>False</td>\n",
       "      <td>False</td>\n",
       "      <td>False</td>\n",
       "      <td>False</td>\n",
       "      <td>False</td>\n",
       "      <td>False</td>\n",
       "      <td>False</td>\n",
       "      <td>False</td>\n",
       "      <td>False</td>\n",
       "      <td>False</td>\n",
       "    </tr>\n",
       "    <tr>\n",
       "      <th>2621547</th>\n",
       "      <td>03/24/2006 07:30:00 PM</td>\n",
       "      <td>False</td>\n",
       "      <td>False</td>\n",
       "      <td>733</td>\n",
       "      <td>7.0</td>\n",
       "      <td>17.0</td>\n",
       "      <td>68.0</td>\n",
       "      <td>False</td>\n",
       "      <td>False</td>\n",
       "      <td>False</td>\n",
       "      <td>...</td>\n",
       "      <td>False</td>\n",
       "      <td>False</td>\n",
       "      <td>False</td>\n",
       "      <td>False</td>\n",
       "      <td>False</td>\n",
       "      <td>False</td>\n",
       "      <td>False</td>\n",
       "      <td>False</td>\n",
       "      <td>False</td>\n",
       "      <td>False</td>\n",
       "    </tr>\n",
       "  </tbody>\n",
       "</table>\n",
       "<p>5 rows × 608 columns</p>\n",
       "</div>"
      ],
      "text/plain": [
       "                           Date  Arrest  Domestic  Beat  District  Ward  \\\n",
       "2721891  08/21/2006 02:20:00 AM    True     False   313       3.0  20.0   \n",
       "2461538  11/23/2005 05:05:00 PM   False      True   723       7.0  17.0   \n",
       "4695736  04/22/2011 05:32:00 PM   False      True  2233      22.0  34.0   \n",
       "1984789  11/26/2004 12:20:00 AM   False      True  1531      15.0  37.0   \n",
       "2621547  03/24/2006 07:30:00 PM   False     False   733       7.0  17.0   \n",
       "\n",
       "         Community Area  Primary Type_ASSAULT  Primary Type_BATTERY  \\\n",
       "2721891            42.0                 False                 False   \n",
       "2461538            68.0                  True                 False   \n",
       "4695736            49.0                 False                  True   \n",
       "1984789            25.0                 False                  True   \n",
       "2621547            68.0                 False                 False   \n",
       "\n",
       "         Primary Type_BURGLARY  ...  Description_VIOLATION OF SUMMARY CLOSURE  \\\n",
       "2721891                  False  ...                                     False   \n",
       "2461538                  False  ...                                     False   \n",
       "4695736                  False  ...                                     False   \n",
       "1984789                  False  ...                                     False   \n",
       "2621547                  False  ...                                     False   \n",
       "\n",
       "         Description_VIOLENT OFFENDER - ANNUAL REGISTRATION  \\\n",
       "2721891                                              False    \n",
       "2461538                                              False    \n",
       "4695736                                              False    \n",
       "1984789                                              False    \n",
       "2621547                                              False    \n",
       "\n",
       "         Description_VIOLENT OFFENDER - DUTY TO REGISTER  \\\n",
       "2721891                                            False   \n",
       "2461538                                            False   \n",
       "4695736                                            False   \n",
       "1984789                                            False   \n",
       "2621547                                            False   \n",
       "\n",
       "         Description_VIOLENT OFFENDER - FAIL TO REGISTER NEW ADDRESS  \\\n",
       "2721891                                              False             \n",
       "2461538                                              False             \n",
       "4695736                                              False             \n",
       "1984789                                              False             \n",
       "2621547                                              False             \n",
       "\n",
       "         Description_VIOLENT OFFENDER: ANNUAL REGISTRATION  \\\n",
       "2721891                                              False   \n",
       "2461538                                              False   \n",
       "4695736                                              False   \n",
       "1984789                                              False   \n",
       "2621547                                              False   \n",
       "\n",
       "         Description_VIOLENT OFFENDER: DUTY TO REGISTER  \\\n",
       "2721891                                           False   \n",
       "2461538                                           False   \n",
       "4695736                                           False   \n",
       "1984789                                           False   \n",
       "2621547                                           False   \n",
       "\n",
       "         Description_VIOLENT OFFENDER: FAIL TO REGISTER NEW ADDRESS  \\\n",
       "2721891                                              False            \n",
       "2461538                                              False            \n",
       "4695736                                              False            \n",
       "1984789                                              False            \n",
       "2621547                                              False            \n",
       "\n",
       "         Description_WIC FRAUD  Description_WIREROOM/HORSES  \\\n",
       "2721891                  False                        False   \n",
       "2461538                  False                        False   \n",
       "4695736                  False                        False   \n",
       "1984789                  False                        False   \n",
       "2621547                  False                        False   \n",
       "\n",
       "         Description_WIREROOM/SPORTS  \n",
       "2721891                        False  \n",
       "2461538                        False  \n",
       "4695736                        False  \n",
       "1984789                        False  \n",
       "2621547                        False  \n",
       "\n",
       "[5 rows x 608 columns]"
      ]
     },
     "execution_count": 14,
     "metadata": {},
     "output_type": "execute_result"
    }
   ],
   "source": [
    "crime_sample_df.head()"
   ]
  },
  {
   "cell_type": "code",
   "execution_count": 15,
   "id": "e18db605-3438-450d-b1be-ef7b407b51f3",
   "metadata": {
    "id": "e18db605-3438-450d-b1be-ef7b407b51f3"
   },
   "outputs": [],
   "source": [
    "crime_sample_df['Date'] = pd.to_datetime(crime_sample_df['Date'])\n",
    "crime_sample_df['hour'] = crime_sample_df['Date'].dt.hour\n",
    "crime_sample_df['day_of_week'] = crime_sample_df['Date'].dt.dayofweek"
   ]
  },
  {
   "cell_type": "markdown",
   "id": "7f00c6de-07ee-42cf-a016-aa101019e981",
   "metadata": {
    "id": "7f00c6de-07ee-42cf-a016-aa101019e981"
   },
   "source": [
    "### KNN"
   ]
  },
  {
   "cell_type": "code",
   "execution_count": 17,
   "id": "ca7ff25d-a98a-4d52-b7d2-c9dad3dd3221",
   "metadata": {
    "id": "ca7ff25d-a98a-4d52-b7d2-c9dad3dd3221"
   },
   "outputs": [],
   "source": [
    "crime_sample_df = crime_sample_df.drop(columns=['Date'])\n",
    "crime_sample_df = crime_sample_df.astype(int)"
   ]
  },
  {
   "cell_type": "code",
   "execution_count": 18,
   "id": "8d0b44b5-55b4-4466-872a-aed4e369fde5",
   "metadata": {
    "id": "8d0b44b5-55b4-4466-872a-aed4e369fde5"
   },
   "outputs": [],
   "source": [
    "X = crime_sample_df.drop('Arrest', axis=1)\n",
    "y = crime_sample_df['Arrest']\n",
    "\n",
    "X_train, X_valid, y_train, y_valid = train_test_split(X, y, test_size=0.4, random_state=7)"
   ]
  },
  {
   "cell_type": "code",
   "execution_count": 19,
   "id": "b876b90e-3ac3-4dee-be59-f7465a9031a6",
   "metadata": {
    "id": "b876b90e-3ac3-4dee-be59-f7465a9031a6"
   },
   "outputs": [],
   "source": [
    "from sklearn.preprocessing import StandardScaler\n",
    "scaler = StandardScaler()\n",
    "X_train_scaled = scaler.fit_transform(X_train)\n",
    "X_valid_scaled = scaler.transform(X_valid)"
   ]
  },
  {
   "cell_type": "code",
   "execution_count": 20,
   "id": "10ba80d2-5f21-4df4-9f86-8d7faa95f47a",
   "metadata": {
    "colab": {
     "base_uri": "https://localhost:8080/"
    },
    "executionInfo": {
     "elapsed": 221,
     "status": "ok",
     "timestamp": 1746496354080,
     "user": {
      "displayName": "Gwen Hollingsworth",
      "userId": "15419091393829148170"
     },
     "user_tz": 240
    },
    "id": "10ba80d2-5f21-4df4-9f86-8d7faa95f47a",
    "outputId": "d644fe1e-ae75-44c4-a87b-d1ee23b0465f"
   },
   "outputs": [
    {
     "name": "stdout",
     "output_type": "stream",
     "text": [
      "0.8683733649632631\n"
     ]
    }
   ],
   "source": [
    "knn = KNeighborsClassifier(n_neighbors=5)\n",
    "knn.fit(X_train_scaled, y_train)\n",
    "\n",
    "y_pred = knn.predict(X_valid_scaled)\n",
    "\n",
    "accuracy = accuracy_score(y_valid, y_pred)\n",
    "\n",
    "print(accuracy)"
   ]
  },
  {
   "cell_type": "code",
   "execution_count": 21,
   "id": "c4a39a5b-685d-416d-8b6f-cb237af993a0",
   "metadata": {
    "colab": {
     "base_uri": "https://localhost:8080/",
     "height": 238
    },
    "executionInfo": {
     "elapsed": 832,
     "status": "ok",
     "timestamp": 1746496354869,
     "user": {
      "displayName": "Gwen Hollingsworth",
      "userId": "15419091393829148170"
     },
     "user_tz": 240
    },
    "id": "c4a39a5b-685d-416d-8b6f-cb237af993a0",
    "outputId": "cfeb7796-e53b-4ec0-ab44-69aaf1dea7e8"
   },
   "outputs": [
    {
     "data": {
      "text/html": [
       "<div>\n",
       "<style scoped>\n",
       "    .dataframe tbody tr th:only-of-type {\n",
       "        vertical-align: middle;\n",
       "    }\n",
       "\n",
       "    .dataframe tbody tr th {\n",
       "        vertical-align: top;\n",
       "    }\n",
       "\n",
       "    .dataframe thead th {\n",
       "        text-align: right;\n",
       "    }\n",
       "</style>\n",
       "<table border=\"1\" class=\"dataframe\">\n",
       "  <thead>\n",
       "    <tr style=\"text-align: right;\">\n",
       "      <th></th>\n",
       "      <th>k</th>\n",
       "      <th>accuracy</th>\n",
       "    </tr>\n",
       "  </thead>\n",
       "  <tbody>\n",
       "    <tr>\n",
       "      <th>0</th>\n",
       "      <td>1</td>\n",
       "      <td>0.823202</td>\n",
       "    </tr>\n",
       "    <tr>\n",
       "      <th>1</th>\n",
       "      <td>3</td>\n",
       "      <td>0.856875</td>\n",
       "    </tr>\n",
       "    <tr>\n",
       "      <th>2</th>\n",
       "      <td>5</td>\n",
       "      <td>0.868373</td>\n",
       "    </tr>\n",
       "    <tr>\n",
       "      <th>3</th>\n",
       "      <td>7</td>\n",
       "      <td>0.872228</td>\n",
       "    </tr>\n",
       "    <tr>\n",
       "      <th>4</th>\n",
       "      <td>9</td>\n",
       "      <td>0.874238</td>\n",
       "    </tr>\n",
       "    <tr>\n",
       "      <th>5</th>\n",
       "      <td>11</td>\n",
       "      <td>0.875556</td>\n",
       "    </tr>\n",
       "  </tbody>\n",
       "</table>\n",
       "</div>"
      ],
      "text/plain": [
       "    k  accuracy\n",
       "0   1  0.823202\n",
       "1   3  0.856875\n",
       "2   5  0.868373\n",
       "3   7  0.872228\n",
       "4   9  0.874238\n",
       "5  11  0.875556"
      ]
     },
     "execution_count": 21,
     "metadata": {},
     "output_type": "execute_result"
    }
   ],
   "source": [
    "result = []\n",
    "\n",
    "for k in range(1, 13, 2):\n",
    "    knn = KNeighborsClassifier(n_neighbors=k)\n",
    "    knn.fit(X_train_scaled, y_train)\n",
    "    accuracy = accuracy_score(y_valid, knn.predict(X_valid_scaled))\n",
    "\n",
    "    result.append({'k': k, 'accuracy': accuracy})\n",
    "\n",
    "results_df = pd.DataFrame(result)\n",
    "results_df"
   ]
  },
  {
   "cell_type": "markdown",
   "id": "1e1e04e5-47bc-4ff6-95d2-bc92ed268f08",
   "metadata": {
    "id": "1e1e04e5-47bc-4ff6-95d2-bc92ed268f08"
   },
   "source": [
    "### Logistic Regression"
   ]
  },
  {
   "cell_type": "code",
   "execution_count": 23,
   "id": "cf8e5a89-e134-4014-ab91-2b87ca1632a9",
   "metadata": {
    "colab": {
     "base_uri": "https://localhost:8080/",
     "height": 81
    },
    "executionInfo": {
     "elapsed": 36,
     "status": "ok",
     "timestamp": 1746496354911,
     "user": {
      "displayName": "Gwen Hollingsworth",
      "userId": "15419091393829148170"
     },
     "user_tz": 240
    },
    "id": "cf8e5a89-e134-4014-ab91-2b87ca1632a9",
    "outputId": "e8651337-146d-4b22-f473-7b06337ca257"
   },
   "outputs": [
    {
     "data": {
      "text/html": [
       "<style>#sk-container-id-1 {\n",
       "  /* Definition of color scheme common for light and dark mode */\n",
       "  --sklearn-color-text: black;\n",
       "  --sklearn-color-line: gray;\n",
       "  /* Definition of color scheme for unfitted estimators */\n",
       "  --sklearn-color-unfitted-level-0: #fff5e6;\n",
       "  --sklearn-color-unfitted-level-1: #f6e4d2;\n",
       "  --sklearn-color-unfitted-level-2: #ffe0b3;\n",
       "  --sklearn-color-unfitted-level-3: chocolate;\n",
       "  /* Definition of color scheme for fitted estimators */\n",
       "  --sklearn-color-fitted-level-0: #f0f8ff;\n",
       "  --sklearn-color-fitted-level-1: #d4ebff;\n",
       "  --sklearn-color-fitted-level-2: #b3dbfd;\n",
       "  --sklearn-color-fitted-level-3: cornflowerblue;\n",
       "\n",
       "  /* Specific color for light theme */\n",
       "  --sklearn-color-text-on-default-background: var(--sg-text-color, var(--theme-code-foreground, var(--jp-content-font-color1, black)));\n",
       "  --sklearn-color-background: var(--sg-background-color, var(--theme-background, var(--jp-layout-color0, white)));\n",
       "  --sklearn-color-border-box: var(--sg-text-color, var(--theme-code-foreground, var(--jp-content-font-color1, black)));\n",
       "  --sklearn-color-icon: #696969;\n",
       "\n",
       "  @media (prefers-color-scheme: dark) {\n",
       "    /* Redefinition of color scheme for dark theme */\n",
       "    --sklearn-color-text-on-default-background: var(--sg-text-color, var(--theme-code-foreground, var(--jp-content-font-color1, white)));\n",
       "    --sklearn-color-background: var(--sg-background-color, var(--theme-background, var(--jp-layout-color0, #111)));\n",
       "    --sklearn-color-border-box: var(--sg-text-color, var(--theme-code-foreground, var(--jp-content-font-color1, white)));\n",
       "    --sklearn-color-icon: #878787;\n",
       "  }\n",
       "}\n",
       "\n",
       "#sk-container-id-1 {\n",
       "  color: var(--sklearn-color-text);\n",
       "}\n",
       "\n",
       "#sk-container-id-1 pre {\n",
       "  padding: 0;\n",
       "}\n",
       "\n",
       "#sk-container-id-1 input.sk-hidden--visually {\n",
       "  border: 0;\n",
       "  clip: rect(1px 1px 1px 1px);\n",
       "  clip: rect(1px, 1px, 1px, 1px);\n",
       "  height: 1px;\n",
       "  margin: -1px;\n",
       "  overflow: hidden;\n",
       "  padding: 0;\n",
       "  position: absolute;\n",
       "  width: 1px;\n",
       "}\n",
       "\n",
       "#sk-container-id-1 div.sk-dashed-wrapped {\n",
       "  border: 1px dashed var(--sklearn-color-line);\n",
       "  margin: 0 0.4em 0.5em 0.4em;\n",
       "  box-sizing: border-box;\n",
       "  padding-bottom: 0.4em;\n",
       "  background-color: var(--sklearn-color-background);\n",
       "}\n",
       "\n",
       "#sk-container-id-1 div.sk-container {\n",
       "  /* jupyter's `normalize.less` sets `[hidden] { display: none; }`\n",
       "     but bootstrap.min.css set `[hidden] { display: none !important; }`\n",
       "     so we also need the `!important` here to be able to override the\n",
       "     default hidden behavior on the sphinx rendered scikit-learn.org.\n",
       "     See: https://github.com/scikit-learn/scikit-learn/issues/21755 */\n",
       "  display: inline-block !important;\n",
       "  position: relative;\n",
       "}\n",
       "\n",
       "#sk-container-id-1 div.sk-text-repr-fallback {\n",
       "  display: none;\n",
       "}\n",
       "\n",
       "div.sk-parallel-item,\n",
       "div.sk-serial,\n",
       "div.sk-item {\n",
       "  /* draw centered vertical line to link estimators */\n",
       "  background-image: linear-gradient(var(--sklearn-color-text-on-default-background), var(--sklearn-color-text-on-default-background));\n",
       "  background-size: 2px 100%;\n",
       "  background-repeat: no-repeat;\n",
       "  background-position: center center;\n",
       "}\n",
       "\n",
       "/* Parallel-specific style estimator block */\n",
       "\n",
       "#sk-container-id-1 div.sk-parallel-item::after {\n",
       "  content: \"\";\n",
       "  width: 100%;\n",
       "  border-bottom: 2px solid var(--sklearn-color-text-on-default-background);\n",
       "  flex-grow: 1;\n",
       "}\n",
       "\n",
       "#sk-container-id-1 div.sk-parallel {\n",
       "  display: flex;\n",
       "  align-items: stretch;\n",
       "  justify-content: center;\n",
       "  background-color: var(--sklearn-color-background);\n",
       "  position: relative;\n",
       "}\n",
       "\n",
       "#sk-container-id-1 div.sk-parallel-item {\n",
       "  display: flex;\n",
       "  flex-direction: column;\n",
       "}\n",
       "\n",
       "#sk-container-id-1 div.sk-parallel-item:first-child::after {\n",
       "  align-self: flex-end;\n",
       "  width: 50%;\n",
       "}\n",
       "\n",
       "#sk-container-id-1 div.sk-parallel-item:last-child::after {\n",
       "  align-self: flex-start;\n",
       "  width: 50%;\n",
       "}\n",
       "\n",
       "#sk-container-id-1 div.sk-parallel-item:only-child::after {\n",
       "  width: 0;\n",
       "}\n",
       "\n",
       "/* Serial-specific style estimator block */\n",
       "\n",
       "#sk-container-id-1 div.sk-serial {\n",
       "  display: flex;\n",
       "  flex-direction: column;\n",
       "  align-items: center;\n",
       "  background-color: var(--sklearn-color-background);\n",
       "  padding-right: 1em;\n",
       "  padding-left: 1em;\n",
       "}\n",
       "\n",
       "\n",
       "/* Toggleable style: style used for estimator/Pipeline/ColumnTransformer box that is\n",
       "clickable and can be expanded/collapsed.\n",
       "- Pipeline and ColumnTransformer use this feature and define the default style\n",
       "- Estimators will overwrite some part of the style using the `sk-estimator` class\n",
       "*/\n",
       "\n",
       "/* Pipeline and ColumnTransformer style (default) */\n",
       "\n",
       "#sk-container-id-1 div.sk-toggleable {\n",
       "  /* Default theme specific background. It is overwritten whether we have a\n",
       "  specific estimator or a Pipeline/ColumnTransformer */\n",
       "  background-color: var(--sklearn-color-background);\n",
       "}\n",
       "\n",
       "/* Toggleable label */\n",
       "#sk-container-id-1 label.sk-toggleable__label {\n",
       "  cursor: pointer;\n",
       "  display: block;\n",
       "  width: 100%;\n",
       "  margin-bottom: 0;\n",
       "  padding: 0.5em;\n",
       "  box-sizing: border-box;\n",
       "  text-align: center;\n",
       "}\n",
       "\n",
       "#sk-container-id-1 label.sk-toggleable__label-arrow:before {\n",
       "  /* Arrow on the left of the label */\n",
       "  content: \"▸\";\n",
       "  float: left;\n",
       "  margin-right: 0.25em;\n",
       "  color: var(--sklearn-color-icon);\n",
       "}\n",
       "\n",
       "#sk-container-id-1 label.sk-toggleable__label-arrow:hover:before {\n",
       "  color: var(--sklearn-color-text);\n",
       "}\n",
       "\n",
       "/* Toggleable content - dropdown */\n",
       "\n",
       "#sk-container-id-1 div.sk-toggleable__content {\n",
       "  max-height: 0;\n",
       "  max-width: 0;\n",
       "  overflow: hidden;\n",
       "  text-align: left;\n",
       "  /* unfitted */\n",
       "  background-color: var(--sklearn-color-unfitted-level-0);\n",
       "}\n",
       "\n",
       "#sk-container-id-1 div.sk-toggleable__content.fitted {\n",
       "  /* fitted */\n",
       "  background-color: var(--sklearn-color-fitted-level-0);\n",
       "}\n",
       "\n",
       "#sk-container-id-1 div.sk-toggleable__content pre {\n",
       "  margin: 0.2em;\n",
       "  border-radius: 0.25em;\n",
       "  color: var(--sklearn-color-text);\n",
       "  /* unfitted */\n",
       "  background-color: var(--sklearn-color-unfitted-level-0);\n",
       "}\n",
       "\n",
       "#sk-container-id-1 div.sk-toggleable__content.fitted pre {\n",
       "  /* unfitted */\n",
       "  background-color: var(--sklearn-color-fitted-level-0);\n",
       "}\n",
       "\n",
       "#sk-container-id-1 input.sk-toggleable__control:checked~div.sk-toggleable__content {\n",
       "  /* Expand drop-down */\n",
       "  max-height: 200px;\n",
       "  max-width: 100%;\n",
       "  overflow: auto;\n",
       "}\n",
       "\n",
       "#sk-container-id-1 input.sk-toggleable__control:checked~label.sk-toggleable__label-arrow:before {\n",
       "  content: \"▾\";\n",
       "}\n",
       "\n",
       "/* Pipeline/ColumnTransformer-specific style */\n",
       "\n",
       "#sk-container-id-1 div.sk-label input.sk-toggleable__control:checked~label.sk-toggleable__label {\n",
       "  color: var(--sklearn-color-text);\n",
       "  background-color: var(--sklearn-color-unfitted-level-2);\n",
       "}\n",
       "\n",
       "#sk-container-id-1 div.sk-label.fitted input.sk-toggleable__control:checked~label.sk-toggleable__label {\n",
       "  background-color: var(--sklearn-color-fitted-level-2);\n",
       "}\n",
       "\n",
       "/* Estimator-specific style */\n",
       "\n",
       "/* Colorize estimator box */\n",
       "#sk-container-id-1 div.sk-estimator input.sk-toggleable__control:checked~label.sk-toggleable__label {\n",
       "  /* unfitted */\n",
       "  background-color: var(--sklearn-color-unfitted-level-2);\n",
       "}\n",
       "\n",
       "#sk-container-id-1 div.sk-estimator.fitted input.sk-toggleable__control:checked~label.sk-toggleable__label {\n",
       "  /* fitted */\n",
       "  background-color: var(--sklearn-color-fitted-level-2);\n",
       "}\n",
       "\n",
       "#sk-container-id-1 div.sk-label label.sk-toggleable__label,\n",
       "#sk-container-id-1 div.sk-label label {\n",
       "  /* The background is the default theme color */\n",
       "  color: var(--sklearn-color-text-on-default-background);\n",
       "}\n",
       "\n",
       "/* On hover, darken the color of the background */\n",
       "#sk-container-id-1 div.sk-label:hover label.sk-toggleable__label {\n",
       "  color: var(--sklearn-color-text);\n",
       "  background-color: var(--sklearn-color-unfitted-level-2);\n",
       "}\n",
       "\n",
       "/* Label box, darken color on hover, fitted */\n",
       "#sk-container-id-1 div.sk-label.fitted:hover label.sk-toggleable__label.fitted {\n",
       "  color: var(--sklearn-color-text);\n",
       "  background-color: var(--sklearn-color-fitted-level-2);\n",
       "}\n",
       "\n",
       "/* Estimator label */\n",
       "\n",
       "#sk-container-id-1 div.sk-label label {\n",
       "  font-family: monospace;\n",
       "  font-weight: bold;\n",
       "  display: inline-block;\n",
       "  line-height: 1.2em;\n",
       "}\n",
       "\n",
       "#sk-container-id-1 div.sk-label-container {\n",
       "  text-align: center;\n",
       "}\n",
       "\n",
       "/* Estimator-specific */\n",
       "#sk-container-id-1 div.sk-estimator {\n",
       "  font-family: monospace;\n",
       "  border: 1px dotted var(--sklearn-color-border-box);\n",
       "  border-radius: 0.25em;\n",
       "  box-sizing: border-box;\n",
       "  margin-bottom: 0.5em;\n",
       "  /* unfitted */\n",
       "  background-color: var(--sklearn-color-unfitted-level-0);\n",
       "}\n",
       "\n",
       "#sk-container-id-1 div.sk-estimator.fitted {\n",
       "  /* fitted */\n",
       "  background-color: var(--sklearn-color-fitted-level-0);\n",
       "}\n",
       "\n",
       "/* on hover */\n",
       "#sk-container-id-1 div.sk-estimator:hover {\n",
       "  /* unfitted */\n",
       "  background-color: var(--sklearn-color-unfitted-level-2);\n",
       "}\n",
       "\n",
       "#sk-container-id-1 div.sk-estimator.fitted:hover {\n",
       "  /* fitted */\n",
       "  background-color: var(--sklearn-color-fitted-level-2);\n",
       "}\n",
       "\n",
       "/* Specification for estimator info (e.g. \"i\" and \"?\") */\n",
       "\n",
       "/* Common style for \"i\" and \"?\" */\n",
       "\n",
       ".sk-estimator-doc-link,\n",
       "a:link.sk-estimator-doc-link,\n",
       "a:visited.sk-estimator-doc-link {\n",
       "  float: right;\n",
       "  font-size: smaller;\n",
       "  line-height: 1em;\n",
       "  font-family: monospace;\n",
       "  background-color: var(--sklearn-color-background);\n",
       "  border-radius: 1em;\n",
       "  height: 1em;\n",
       "  width: 1em;\n",
       "  text-decoration: none !important;\n",
       "  margin-left: 1ex;\n",
       "  /* unfitted */\n",
       "  border: var(--sklearn-color-unfitted-level-1) 1pt solid;\n",
       "  color: var(--sklearn-color-unfitted-level-1);\n",
       "}\n",
       "\n",
       ".sk-estimator-doc-link.fitted,\n",
       "a:link.sk-estimator-doc-link.fitted,\n",
       "a:visited.sk-estimator-doc-link.fitted {\n",
       "  /* fitted */\n",
       "  border: var(--sklearn-color-fitted-level-1) 1pt solid;\n",
       "  color: var(--sklearn-color-fitted-level-1);\n",
       "}\n",
       "\n",
       "/* On hover */\n",
       "div.sk-estimator:hover .sk-estimator-doc-link:hover,\n",
       ".sk-estimator-doc-link:hover,\n",
       "div.sk-label-container:hover .sk-estimator-doc-link:hover,\n",
       ".sk-estimator-doc-link:hover {\n",
       "  /* unfitted */\n",
       "  background-color: var(--sklearn-color-unfitted-level-3);\n",
       "  color: var(--sklearn-color-background);\n",
       "  text-decoration: none;\n",
       "}\n",
       "\n",
       "div.sk-estimator.fitted:hover .sk-estimator-doc-link.fitted:hover,\n",
       ".sk-estimator-doc-link.fitted:hover,\n",
       "div.sk-label-container:hover .sk-estimator-doc-link.fitted:hover,\n",
       ".sk-estimator-doc-link.fitted:hover {\n",
       "  /* fitted */\n",
       "  background-color: var(--sklearn-color-fitted-level-3);\n",
       "  color: var(--sklearn-color-background);\n",
       "  text-decoration: none;\n",
       "}\n",
       "\n",
       "/* Span, style for the box shown on hovering the info icon */\n",
       ".sk-estimator-doc-link span {\n",
       "  display: none;\n",
       "  z-index: 9999;\n",
       "  position: relative;\n",
       "  font-weight: normal;\n",
       "  right: .2ex;\n",
       "  padding: .5ex;\n",
       "  margin: .5ex;\n",
       "  width: min-content;\n",
       "  min-width: 20ex;\n",
       "  max-width: 50ex;\n",
       "  color: var(--sklearn-color-text);\n",
       "  box-shadow: 2pt 2pt 4pt #999;\n",
       "  /* unfitted */\n",
       "  background: var(--sklearn-color-unfitted-level-0);\n",
       "  border: .5pt solid var(--sklearn-color-unfitted-level-3);\n",
       "}\n",
       "\n",
       ".sk-estimator-doc-link.fitted span {\n",
       "  /* fitted */\n",
       "  background: var(--sklearn-color-fitted-level-0);\n",
       "  border: var(--sklearn-color-fitted-level-3);\n",
       "}\n",
       "\n",
       ".sk-estimator-doc-link:hover span {\n",
       "  display: block;\n",
       "}\n",
       "\n",
       "/* \"?\"-specific style due to the `<a>` HTML tag */\n",
       "\n",
       "#sk-container-id-1 a.estimator_doc_link {\n",
       "  float: right;\n",
       "  font-size: 1rem;\n",
       "  line-height: 1em;\n",
       "  font-family: monospace;\n",
       "  background-color: var(--sklearn-color-background);\n",
       "  border-radius: 1rem;\n",
       "  height: 1rem;\n",
       "  width: 1rem;\n",
       "  text-decoration: none;\n",
       "  /* unfitted */\n",
       "  color: var(--sklearn-color-unfitted-level-1);\n",
       "  border: var(--sklearn-color-unfitted-level-1) 1pt solid;\n",
       "}\n",
       "\n",
       "#sk-container-id-1 a.estimator_doc_link.fitted {\n",
       "  /* fitted */\n",
       "  border: var(--sklearn-color-fitted-level-1) 1pt solid;\n",
       "  color: var(--sklearn-color-fitted-level-1);\n",
       "}\n",
       "\n",
       "/* On hover */\n",
       "#sk-container-id-1 a.estimator_doc_link:hover {\n",
       "  /* unfitted */\n",
       "  background-color: var(--sklearn-color-unfitted-level-3);\n",
       "  color: var(--sklearn-color-background);\n",
       "  text-decoration: none;\n",
       "}\n",
       "\n",
       "#sk-container-id-1 a.estimator_doc_link.fitted:hover {\n",
       "  /* fitted */\n",
       "  background-color: var(--sklearn-color-fitted-level-3);\n",
       "}\n",
       "</style><div id=\"sk-container-id-1\" class=\"sk-top-container\"><div class=\"sk-text-repr-fallback\"><pre>LogisticRegression(C=1e+42, solver=&#x27;liblinear&#x27;)</pre><b>In a Jupyter environment, please rerun this cell to show the HTML representation or trust the notebook. <br />On GitHub, the HTML representation is unable to render, please try loading this page with nbviewer.org.</b></div><div class=\"sk-container\" hidden><div class=\"sk-item\"><div class=\"sk-estimator fitted sk-toggleable\"><input class=\"sk-toggleable__control sk-hidden--visually\" id=\"sk-estimator-id-1\" type=\"checkbox\" checked><label for=\"sk-estimator-id-1\" class=\"sk-toggleable__label fitted sk-toggleable__label-arrow fitted\">&nbsp;&nbsp;LogisticRegression<a class=\"sk-estimator-doc-link fitted\" rel=\"noreferrer\" target=\"_blank\" href=\"https://scikit-learn.org/1.5/modules/generated/sklearn.linear_model.LogisticRegression.html\">?<span>Documentation for LogisticRegression</span></a><span class=\"sk-estimator-doc-link fitted\">i<span>Fitted</span></span></label><div class=\"sk-toggleable__content fitted\"><pre>LogisticRegression(C=1e+42, solver=&#x27;liblinear&#x27;)</pre></div> </div></div></div></div>"
      ],
      "text/plain": [
       "LogisticRegression(C=1e+42, solver='liblinear')"
      ]
     },
     "execution_count": 23,
     "metadata": {},
     "output_type": "execute_result"
    }
   ],
   "source": [
    "logit_reg = LogisticRegression(penalty=\"l2\", C=1e42, solver='liblinear')\n",
    "logit_reg.fit(X_train, y_train)"
   ]
  },
  {
   "cell_type": "code",
   "execution_count": 24,
   "id": "3aafc16e-5d90-45cb-976e-1d7c1d09373f",
   "metadata": {
    "colab": {
     "base_uri": "https://localhost:8080/"
    },
    "executionInfo": {
     "elapsed": 16,
     "status": "ok",
     "timestamp": 1746496354932,
     "user": {
      "displayName": "Gwen Hollingsworth",
      "userId": "15419091393829148170"
     },
     "user_tz": 240
    },
    "id": "3aafc16e-5d90-45cb-976e-1d7c1d09373f",
    "outputId": "d9193146-7130-4ee6-f91d-e5cded86d066"
   },
   "outputs": [
    {
     "name": "stdout",
     "output_type": "stream",
     "text": [
      "Accuracy: 0.8739744983690817\n",
      "Intercept  -0.2042571907778676\n"
     ]
    }
   ],
   "source": [
    "y_pred = logit_reg.predict(X_valid)\n",
    "print('Accuracy:', accuracy_score(y_valid, y_pred))\n",
    "print('Intercept ', logit_reg.intercept_[0])"
   ]
  },
  {
   "cell_type": "code",
   "execution_count": 25,
   "id": "ae8ae4d9-eae2-4a43-a6e6-caee33a8085e",
   "metadata": {
    "colab": {
     "base_uri": "https://localhost:8080/"
    },
    "executionInfo": {
     "elapsed": 986,
     "status": "ok",
     "timestamp": 1746496355944,
     "user": {
      "displayName": "Gwen Hollingsworth",
      "userId": "15419091393829148170"
     },
     "user_tz": 240
    },
    "id": "ae8ae4d9-eae2-4a43-a6e6-caee33a8085e",
    "outputId": "705f4ff6-11e3-4959-fba6-d05bed8011cf"
   },
   "outputs": [
    {
     "name": "stderr",
     "output_type": "stream",
     "text": [
      "/var/folders/ws/skn1jvl12xq48r7t01qb74pm0000gn/T/ipykernel_42495/2785638532.py:15: UserWarning: FigureCanvasAgg is non-interactive, and thus cannot be shown\n",
      "  plt.show()\n"
     ]
    }
   ],
   "source": [
    "logit_proba = logit_reg.predict_proba(X_valid)\n",
    "logit_result = pd.DataFrame({\n",
    "    'actual': y_valid.values,\n",
    "    'p(0)': logit_proba[:, 0],\n",
    "    'p(1)': logit_proba[:, 1],\n",
    "    'predicted': logit_reg.predict(X_valid),})\n",
    "logit_result = logit_result.sort_values(by='p(1)', ascending=False)\n",
    "\n",
    "df = logit_result.sort_values(by='p(1)', ascending=False)\n",
    "\n",
    "fig, ax = plt.subplots(figsize=(7, 5))\n",
    "ax = gainsChart(df.actual, label='Logistic Regression', color='C1', ax=ax)\n",
    "ax.legend()\n",
    "plt.title('Gains Chart')\n",
    "plt.show()"
   ]
  },
  {
   "cell_type": "markdown",
   "id": "9f4833a1-df3d-4a5c-803f-4f2774d8eb5f",
   "metadata": {
    "id": "9f4833a1-df3d-4a5c-803f-4f2774d8eb5f"
   },
   "source": [
    "### Compare the performance of knn and logit_regression"
   ]
  },
  {
   "cell_type": "code",
   "execution_count": 27,
   "id": "0ed83ca4-fd1b-4e98-b1d4-077b655905fd",
   "metadata": {
    "colab": {
     "base_uri": "https://localhost:8080/"
    },
    "executionInfo": {
     "elapsed": 115,
     "status": "ok",
     "timestamp": 1746496356063,
     "user": {
      "displayName": "Gwen Hollingsworth",
      "userId": "15419091393829148170"
     },
     "user_tz": 240
    },
    "id": "0ed83ca4-fd1b-4e98-b1d4-077b655905fd",
    "outputId": "e642bf27-c749-48ef-d214-e8e62e7f4491"
   },
   "outputs": [
    {
     "name": "stdout",
     "output_type": "stream",
     "text": [
      "Logistic Regression\n",
      "Confusion Matrix (Accuracy 0.8740)\n",
      "\n",
      "          Prediction\n",
      "   Actual No Arrest    Arrest\n",
      "No Arrest     22168       477\n",
      "   Arrest      3348      4358\n",
      "\n",
      "KNN (k=11)\n",
      "Confusion Matrix (Accuracy 0.8756)\n",
      "\n",
      "          Prediction\n",
      "   Actual No Arrest    Arrest\n",
      "No Arrest     21823       822\n",
      "   Arrest      2955      4751\n"
     ]
    }
   ],
   "source": [
    "print(\"Logistic Regression\")\n",
    "classificationSummary(y_valid, logit_reg.predict(X_valid), class_names=['No Arrest', 'Arrest'])\n",
    "print()\n",
    "\n",
    "print(\"KNN (k=11)\")\n",
    "classificationSummary(y_valid, knn.predict(X_valid_scaled), class_names=['No Arrest', 'Arrest'])"
   ]
  },
  {
   "cell_type": "code",
   "execution_count": 28,
   "id": "db557d7c-4707-4701-b425-6ab782d96c13",
   "metadata": {
    "colab": {
     "base_uri": "https://localhost:8080/"
    },
    "executionInfo": {
     "elapsed": 1141,
     "status": "ok",
     "timestamp": 1746496357210,
     "user": {
      "displayName": "Gwen Hollingsworth",
      "userId": "15419091393829148170"
     },
     "user_tz": 240
    },
    "id": "db557d7c-4707-4701-b425-6ab782d96c13",
    "outputId": "2bae1d2a-f1d3-4e92-c6d3-5efddead6e43"
   },
   "outputs": [
    {
     "name": "stderr",
     "output_type": "stream",
     "text": [
      "/opt/anaconda3/lib/python3.12/site-packages/sklearn/base.py:486: UserWarning: X has feature names, but KNeighborsClassifier was fitted without feature names\n",
      "  warnings.warn(\n",
      "/opt/anaconda3/lib/python3.12/site-packages/sklearn/base.py:486: UserWarning: X has feature names, but KNeighborsClassifier was fitted without feature names\n",
      "  warnings.warn(\n",
      "/var/folders/ws/skn1jvl12xq48r7t01qb74pm0000gn/T/ipykernel_42495/2472819639.py:17: UserWarning: FigureCanvasAgg is non-interactive, and thus cannot be shown\n",
      "  plt.show()\n"
     ]
    }
   ],
   "source": [
    "df = logit_result.sort_values(by='p(1)', ascending=False)\n",
    "knn_proba = knn.predict_proba(X_valid)\n",
    "knn_result = pd.DataFrame({\n",
    "    'actual': y_valid.values,\n",
    "    'p(0)': knn_proba[:, 0],\n",
    "    'p(1)': knn_proba[:, 1],\n",
    "    'predicted': knn.predict(X_valid),})\n",
    "knn_result = knn_result.sort_values(by='p(1)', ascending=False)\n",
    "\n",
    "fig, ax = plt.subplots(figsize=(7, 5))\n",
    "ax = gainsChart(df.actual, label='Logistic Regression', color='C1', ax=ax)\n",
    "ax = gainsChart(knn_result.actual, label='KNN (k=11)', color='C0', ax=ax)\n",
    "\n",
    "ax.legend()\n",
    "plt.title('Gains Chart Comparison')\n",
    "plt.tight_layout()\n",
    "plt.show()"
   ]
  },
  {
   "cell_type": "markdown",
   "id": "f681e108-373f-4319-8b50-f93dfe9c62a0",
   "metadata": {
    "id": "f681e108-373f-4319-8b50-f93dfe9c62a0"
   },
   "source": [
    "### Decision Tree"
   ]
  },
  {
   "cell_type": "code",
   "execution_count": 30,
   "id": "b6128ade-da34-4db1-af59-b274e0c4aadc",
   "metadata": {
    "id": "b6128ade-da34-4db1-af59-b274e0c4aadc",
    "scrolled": true
   },
   "outputs": [],
   "source": [
    "fullClassTree = tree.DecisionTreeClassifier(random_state=0)\n",
    "fullClassTree.fit(X_train, y_train)\n",
    "\n",
    "text_representation = tree.export_text(fullClassTree, feature_names=list(X_train.columns))\n",
    "\n",
    "fig = plt.figure(figsize=(25, 20))\n",
    "_ = tree.plot_tree(fullClassTree, feature_names=X_train.columns, filled=True)\n",
    "fig.savefig(\"decision_tree_crime_full.png\")"
   ]
  },
  {
   "cell_type": "code",
   "execution_count": 31,
   "id": "8f15523b-e91c-4b6e-aafa-22cbb92fb6cb",
   "metadata": {
    "colab": {
     "base_uri": "https://localhost:8080/"
    },
    "executionInfo": {
     "elapsed": 220,
     "status": "ok",
     "timestamp": 1746496373133,
     "user": {
      "displayName": "Gwen Hollingsworth",
      "userId": "15419091393829148170"
     },
     "user_tz": 240
    },
    "id": "8f15523b-e91c-4b6e-aafa-22cbb92fb6cb",
    "outputId": "7ef773fa-5df4-411b-e42d-7759e11d8dc2"
   },
   "outputs": [
    {
     "name": "stdout",
     "output_type": "stream",
     "text": [
      "Overall Accuracy: 0.817 (+/- 0.005)\n"
     ]
    }
   ],
   "source": [
    "treeClassifier = tree.DecisionTreeClassifier(random_state=0)\n",
    "scores = cross_val_score(treeClassifier, X, y, cv=5)\n",
    "print(f'Overall Accuracy: {scores.mean():.3f} (+/- {scores.std() * 2:.3f})')"
   ]
  },
  {
   "cell_type": "code",
   "execution_count": 32,
   "id": "a19bd511-9cbb-403a-bdf7-b8047a1f238d",
   "metadata": {
    "id": "a19bd511-9cbb-403a-bdf7-b8047a1f238d"
   },
   "outputs": [],
   "source": [
    "smallClassTree = tree.DecisionTreeClassifier(\n",
    "    max_depth=5,\n",
    "    min_samples_split=20,\n",
    "    min_impurity_decrease=0.01,\n",
    "    random_state=0\n",
    ")\n",
    "smallClassTree.fit(X_train, y_train)\n",
    "\n",
    "text_representation = tree.export_text(smallClassTree, feature_names=list(X_train.columns))\n",
    "#print(text_representation)\n",
    "\n",
    "fig = plt.figure(figsize=(25, 20))\n",
    "_ = tree.plot_tree(smallClassTree, feature_names=X_train.columns, filled=True)\n",
    "fig.savefig(\"decision_tree_crime_small.png\")"
   ]
  },
  {
   "cell_type": "code",
   "execution_count": 33,
   "id": "082bbe7c-85c4-40db-98f9-573ce3d60829",
   "metadata": {
    "colab": {
     "base_uri": "https://localhost:8080/"
    },
    "executionInfo": {
     "elapsed": 24,
     "status": "ok",
     "timestamp": 1746496375104,
     "user": {
      "displayName": "Gwen Hollingsworth",
      "userId": "15419091393829148170"
     },
     "user_tz": 240
    },
    "id": "082bbe7c-85c4-40db-98f9-573ce3d60829",
    "outputId": "17afd18c-bc4c-4b69-a12d-36c01ab73b81"
   },
   "outputs": [
    {
     "name": "stdout",
     "output_type": "stream",
     "text": [
      "Smaller Tree Overall Accuracy: 0.817 (+/- 0.005)\n"
     ]
    }
   ],
   "source": [
    "y_pred_small = smallClassTree.predict(X_valid)\n",
    "accuracy = accuracy_score(y_valid, y_pred_small)\n",
    "print(f'Smaller Tree Overall Accuracy: {scores.mean():.3f} (+/- {scores.std() * 2:.3f})')"
   ]
  },
  {
   "cell_type": "code",
   "execution_count": 34,
   "id": "9f6ebdb7-6ff2-4c09-9ac7-1e20aa958a35",
   "metadata": {
    "colab": {
     "base_uri": "https://localhost:8080/"
    },
    "executionInfo": {
     "elapsed": 15,
     "status": "ok",
     "timestamp": 1746496375123,
     "user": {
      "displayName": "Gwen Hollingsworth",
      "userId": "15419091393829148170"
     },
     "user_tz": 240
    },
    "id": "9f6ebdb7-6ff2-4c09-9ac7-1e20aa958a35",
    "outputId": "860c14c8-f961-497c-93e1-7aabe9a839c2"
   },
   "outputs": [
    {
     "name": "stdout",
     "output_type": "stream",
     "text": [
      "{'ccp_alpha': 0.0, 'class_weight': None, 'criterion': 'gini', 'max_depth': None, 'max_features': None, 'max_leaf_nodes': None, 'min_impurity_decrease': 0.0, 'min_samples_leaf': 1, 'min_samples_split': 2, 'min_weight_fraction_leaf': 0.0, 'monotonic_cst': None, 'random_state': 0, 'splitter': 'best'}\n",
      "{'ccp_alpha': 0.0, 'class_weight': None, 'criterion': 'gini', 'max_depth': 5, 'max_features': None, 'max_leaf_nodes': None, 'min_impurity_decrease': 0.01, 'min_samples_leaf': 1, 'min_samples_split': 20, 'min_weight_fraction_leaf': 0.0, 'monotonic_cst': None, 'random_state': 0, 'splitter': 'best'}\n",
      "Full tree depth: 100\n",
      "Small tree depth: 4\n"
     ]
    }
   ],
   "source": [
    "print(fullClassTree.get_params())\n",
    "print(smallClassTree.get_params())\n",
    "print(f'Full tree depth: {fullClassTree.get_depth()}')\n",
    "print(f'Small tree depth: {smallClassTree.get_depth()}')"
   ]
  },
  {
   "cell_type": "markdown",
   "id": "05ce6cf4-5dda-4ba9-aab7-6a3d2085cb94",
   "metadata": {
    "id": "05ce6cf4-5dda-4ba9-aab7-6a3d2085cb94"
   },
   "source": [
    "### Compare Tree & KNN & LReg"
   ]
  },
  {
   "cell_type": "code",
   "execution_count": 36,
   "id": "3ae0b53f-95ed-424f-82f6-f1d34e0e7ec8",
   "metadata": {
    "colab": {
     "base_uri": "https://localhost:8080/"
    },
    "executionInfo": {
     "elapsed": 178,
     "status": "ok",
     "timestamp": 1746496375303,
     "user": {
      "displayName": "Gwen Hollingsworth",
      "userId": "15419091393829148170"
     },
     "user_tz": 240
    },
    "id": "3ae0b53f-95ed-424f-82f6-f1d34e0e7ec8",
    "outputId": "ea7afe07-7399-40df-a73d-69bea9175288"
   },
   "outputs": [
    {
     "name": "stdout",
     "output_type": "stream",
     "text": [
      "Logistic Regression\n",
      "Confusion Matrix (Accuracy 0.8740)\n",
      "\n",
      "          Prediction\n",
      "   Actual No Arrest    Arrest\n",
      "No Arrest     22168       477\n",
      "   Arrest      3348      4358\n",
      "\n",
      "KNN (k=11)\n",
      "Confusion Matrix (Accuracy 0.8756)\n",
      "\n",
      "          Prediction\n",
      "   Actual No Arrest    Arrest\n",
      "No Arrest     21823       822\n",
      "   Arrest      2955      4751\n",
      "\n",
      "Decision Tree (max_depth=4)\n",
      "Confusion Matrix (Accuracy 0.8600)\n",
      "\n",
      "          Prediction\n",
      "   Actual No Arrest    Arrest\n",
      "No Arrest     22225       420\n",
      "   Arrest      3828      3878\n"
     ]
    }
   ],
   "source": [
    "print(\"Logistic Regression\")\n",
    "classificationSummary(y_valid, logit_reg.predict(X_valid), class_names=['No Arrest', 'Arrest'])\n",
    "print()\n",
    "\n",
    "print(\"KNN (k=11)\")\n",
    "classificationSummary(y_valid, knn.predict(X_valid_scaled), class_names=['No Arrest', 'Arrest'])\n",
    "print()\n",
    "\n",
    "print(\"Decision Tree (max_depth=4)\")\n",
    "classificationSummary(y_valid, smallClassTree.predict(X_valid), class_names=['No Arrest', 'Arrest'])"
   ]
  },
  {
   "cell_type": "code",
   "execution_count": 37,
   "id": "3e17952c-c20f-4c5d-9794-99def528bed7",
   "metadata": {
    "colab": {
     "base_uri": "https://localhost:8080/"
    },
    "executionInfo": {
     "elapsed": 919,
     "status": "ok",
     "timestamp": 1746496376226,
     "user": {
      "displayName": "Gwen Hollingsworth",
      "userId": "15419091393829148170"
     },
     "user_tz": 240
    },
    "id": "3e17952c-c20f-4c5d-9794-99def528bed7",
    "outputId": "bf08f6b8-39c7-47e0-9a44-4f0e50aa6e69"
   },
   "outputs": [
    {
     "name": "stderr",
     "output_type": "stream",
     "text": [
      "/opt/anaconda3/lib/python3.12/site-packages/sklearn/base.py:486: UserWarning: X has feature names, but KNeighborsClassifier was fitted without feature names\n",
      "  warnings.warn(\n",
      "/opt/anaconda3/lib/python3.12/site-packages/sklearn/base.py:486: UserWarning: X has feature names, but KNeighborsClassifier was fitted without feature names\n",
      "  warnings.warn(\n",
      "/var/folders/ws/skn1jvl12xq48r7t01qb74pm0000gn/T/ipykernel_42495/510202289.py:26: UserWarning: FigureCanvasAgg is non-interactive, and thus cannot be shown\n",
      "  plt.show()\n"
     ]
    }
   ],
   "source": [
    "df = logit_result.sort_values(by='p(1)', ascending=False)\n",
    "\n",
    "knn_proba = knn.predict_proba(X_valid)\n",
    "knn_result = pd.DataFrame({\n",
    "    'actual': y_valid.values,\n",
    "    'p(0)': knn_proba[:, 0],\n",
    "    'p(1)': knn_proba[:, 1],\n",
    "    'predicted': knn.predict(X_valid),\n",
    "}).sort_values(by='p(1)', ascending=False)\n",
    "\n",
    "tree_proba = smallClassTree.predict_proba(X_valid)\n",
    "tree_result = pd.DataFrame({\n",
    "    'actual': y_valid.values,\n",
    "    'p(1)': tree_proba[:, 1]\n",
    "}).sort_values(by='p(1)', ascending=False)\n",
    "\n",
    "fig, ax = plt.subplots(figsize=(7, 5))\n",
    "\n",
    "ax = gainsChart(df.actual, label='Logistic Regression', color='C1', ax=ax)\n",
    "ax = gainsChart(knn_result.actual, label='KNN (k=11)', color='C0', ax=ax)\n",
    "ax = gainsChart(tree_result.actual, label='Decision Tree (max_depth=5)', color='C2', ax=ax)\n",
    "\n",
    "ax.legend()\n",
    "plt.title('Gains Chart Comparison')\n",
    "plt.tight_layout()\n",
    "plt.show()"
   ]
  }
 ],
 "metadata": {
  "colab": {
   "provenance": []
  },
  "kernelspec": {
   "display_name": "Python [conda env:base] *",
   "language": "python",
   "name": "conda-base-py"
  },
  "language_info": {
   "codemirror_mode": {
    "name": "ipython",
    "version": 3
   },
   "file_extension": ".py",
   "mimetype": "text/x-python",
   "name": "python",
   "nbconvert_exporter": "python",
   "pygments_lexer": "ipython3",
   "version": "3.12.7"
  }
 },
 "nbformat": 4,
 "nbformat_minor": 5
}
